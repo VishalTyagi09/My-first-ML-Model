{
  "nbformat": 4,
  "nbformat_minor": 0,
  "metadata": {
    "colab": {
      "name": "convolutional_neural_network.ipynb",
      "provenance": [],
      "collapsed_sections": [],
      "toc_visible": true,
      "include_colab_link": true
    },
    "kernelspec": {
      "name": "python3",
      "display_name": "Python 3"
    },
    "accelerator": "TPU"
  },
  "cells": [
    {
      "cell_type": "markdown",
      "metadata": {
        "id": "view-in-github",
        "colab_type": "text"
      },
      "source": [
        "<a href=\"https://colab.research.google.com/github/VishalTyagi09/My-first-Ml-Models/blob/master/convolutional_neural_network.ipynb\" target=\"_parent\"><img src=\"https://colab.research.google.com/assets/colab-badge.svg\" alt=\"Open In Colab\"/></a>"
      ]
    },
    {
      "cell_type": "markdown",
      "metadata": {
        "id": "3DR-eO17geWu",
        "colab_type": "text"
      },
      "source": [
        "# Convolutional Neural Network"
      ]
    },
    {
      "cell_type": "code",
      "metadata": {
        "id": "nrwfJtIeeqr7",
        "colab_type": "code",
        "colab": {
          "base_uri": "https://localhost:8080/",
          "height": 34
        },
        "outputId": "5ffc5df5-9438-451e-a7de-8b2da87abe31"
      },
      "source": [
        "from google.colab import drive\n",
        "drive.mount('/content/drive')"
      ],
      "execution_count": null,
      "outputs": [
        {
          "output_type": "stream",
          "text": [
            "Drive already mounted at /content/drive; to attempt to forcibly remount, call drive.mount(\"/content/drive\", force_remount=True).\n"
          ],
          "name": "stdout"
        }
      ]
    },
    {
      "cell_type": "markdown",
      "metadata": {
        "id": "EMefrVPCg-60",
        "colab_type": "text"
      },
      "source": [
        "### Importing the libraries"
      ]
    },
    {
      "cell_type": "code",
      "metadata": {
        "id": "fW-j7ILqcnXr",
        "colab_type": "code",
        "colab": {
          "base_uri": "https://localhost:8080/",
          "height": 34
        },
        "outputId": "071a1a70-1da1-4690-e5cb-934215e111f4"
      },
      "source": [
        "import tensorflow as tf\n",
        "from keras.preprocessing.image import ImageDataGenerator"
      ],
      "execution_count": null,
      "outputs": [
        {
          "output_type": "stream",
          "text": [
            "Using TensorFlow backend.\n"
          ],
          "name": "stderr"
        }
      ]
    },
    {
      "cell_type": "code",
      "metadata": {
        "id": "oPzHfgH0c9h8",
        "colab_type": "code",
        "colab": {
          "base_uri": "https://localhost:8080/",
          "height": 35
        },
        "outputId": "1ab88dd0-feb5-40b5-ecf0-e3192a33c9fd"
      },
      "source": [
        "tf.__version__"
      ],
      "execution_count": null,
      "outputs": [
        {
          "output_type": "execute_result",
          "data": {
            "application/vnd.google.colaboratory.intrinsic": {
              "type": "string"
            },
            "text/plain": [
              "'2.2.0'"
            ]
          },
          "metadata": {
            "tags": []
          },
          "execution_count": 4
        }
      ]
    },
    {
      "cell_type": "markdown",
      "metadata": {
        "id": "oxQxCBWyoGPE",
        "colab_type": "text"
      },
      "source": [
        "## Part 1 - Data Preprocessing"
      ]
    },
    {
      "cell_type": "markdown",
      "metadata": {
        "id": "MvE-heJNo3GG",
        "colab_type": "text"
      },
      "source": [
        "### Creating the Training set"
      ]
    },
    {
      "cell_type": "code",
      "metadata": {
        "id": "Hh69uVcyeOBc",
        "colab_type": "code",
        "colab": {
          "base_uri": "https://localhost:8080/",
          "height": 34
        },
        "outputId": "76ef6123-fe99-47ed-a870-669666a29c05"
      },
      "source": [
        "train_datagen = ImageDataGenerator(\n",
        "        rescale=1./255,\n",
        "        shear_range=0.2,\n",
        "        zoom_range=0.2,\n",
        "        horizontal_flip=True)\n",
        "training_set = train_datagen.flow_from_directory(\n",
        "        '/content/drive/My Drive/Section+40+-+Convolutional+Neural+Networks+(CNN).zip (Unzipped Files)/Section 40 - Convolutional Neural Networks (CNN)/dataset/training_set',\n",
        "        target_size=(64, 64),\n",
        "        batch_size=32,\n",
        "        class_mode='binary')    "
      ],
      "execution_count": null,
      "outputs": [
        {
          "output_type": "stream",
          "text": [
            "Found 8000 images belonging to 2 classes.\n"
          ],
          "name": "stdout"
        }
      ]
    },
    {
      "cell_type": "markdown",
      "metadata": {
        "id": "mrCMmGw9pHys",
        "colab_type": "text"
      },
      "source": [
        "### Creating the Test set"
      ]
    },
    {
      "cell_type": "code",
      "metadata": {
        "id": "wTjJFcmIgm8d",
        "colab_type": "code",
        "colab": {
          "base_uri": "https://localhost:8080/",
          "height": 34
        },
        "outputId": "bf0c109f-8631-4ccf-d73a-76b64625337a"
      },
      "source": [
        "test_datagen = ImageDataGenerator(rescale=1./255)\n",
        "test_set = test_datagen.flow_from_directory(\n",
        "        '/content/drive/My Drive/Section+40+-+Convolutional+Neural+Networks+(CNN).zip (Unzipped Files)/Section 40 - Convolutional Neural Networks (CNN)/dataset/test_set',\n",
        "        target_size=(64, 64),\n",
        "        batch_size=32,\n",
        "        class_mode='binary')"
      ],
      "execution_count": null,
      "outputs": [
        {
          "output_type": "stream",
          "text": [
            "Found 2000 images belonging to 2 classes.\n"
          ],
          "name": "stdout"
        }
      ]
    },
    {
      "cell_type": "markdown",
      "metadata": {
        "id": "af8O4l90gk7B",
        "colab_type": "text"
      },
      "source": [
        "## Part 2 - Building the CNN"
      ]
    },
    {
      "cell_type": "markdown",
      "metadata": {
        "id": "ces1gXY2lmoX",
        "colab_type": "text"
      },
      "source": [
        "### Initialising the CNN"
      ]
    },
    {
      "cell_type": "code",
      "metadata": {
        "id": "9tAvo5y1h674",
        "colab_type": "code",
        "colab": {}
      },
      "source": [
        "cnn = tf.keras.models.Sequential()"
      ],
      "execution_count": null,
      "outputs": []
    },
    {
      "cell_type": "markdown",
      "metadata": {
        "id": "u5YJj_XMl5LF",
        "colab_type": "text"
      },
      "source": [
        "### Step 1 - Convolution"
      ]
    },
    {
      "cell_type": "code",
      "metadata": {
        "id": "cYeWee8-iJae",
        "colab_type": "code",
        "colab": {}
      },
      "source": [
        "cnn.add(tf.keras.layers.Conv2D(filters= 32,kernel_size= 3, activation= 'relu',input_shape =[64,64,3]))"
      ],
      "execution_count": null,
      "outputs": []
    },
    {
      "cell_type": "markdown",
      "metadata": {
        "id": "tf87FpvxmNOJ",
        "colab_type": "text"
      },
      "source": [
        "### Step 2 - Pooling"
      ]
    },
    {
      "cell_type": "code",
      "metadata": {
        "id": "jFmVk9GajmS7",
        "colab_type": "code",
        "colab": {}
      },
      "source": [
        "cnn.add(tf.keras.layers.MaxPool2D(pool_size= 2,strides= 2))"
      ],
      "execution_count": null,
      "outputs": []
    },
    {
      "cell_type": "markdown",
      "metadata": {
        "id": "xaTOgD8rm4mU",
        "colab_type": "text"
      },
      "source": [
        "### Adding a second convolutional layer"
      ]
    },
    {
      "cell_type": "code",
      "metadata": {
        "id": "1VKeCealkXrg",
        "colab_type": "code",
        "colab": {}
      },
      "source": [
        "cnn.add(tf.keras.layers.Conv2D(filters= 32,kernel_size= 3, activation= 'relu'))\n",
        "cnn.add(tf.keras.layers.MaxPool2D(pool_size= 2,strides= 2))"
      ],
      "execution_count": null,
      "outputs": []
    },
    {
      "cell_type": "markdown",
      "metadata": {
        "id": "tmiEuvTunKfk",
        "colab_type": "text"
      },
      "source": [
        "### Step 3 - Flattening"
      ]
    },
    {
      "cell_type": "code",
      "metadata": {
        "id": "4jDvkwTJknIj",
        "colab_type": "code",
        "colab": {}
      },
      "source": [
        "cnn.add(tf.keras.layers.Flatten())"
      ],
      "execution_count": null,
      "outputs": []
    },
    {
      "cell_type": "markdown",
      "metadata": {
        "id": "dAoSECOm203v",
        "colab_type": "text"
      },
      "source": [
        "### Step 4 - Full Connection"
      ]
    },
    {
      "cell_type": "code",
      "metadata": {
        "id": "0U_QvVlnlL7e",
        "colab_type": "code",
        "colab": {}
      },
      "source": [
        "cnn.add(tf.keras.layers.Dense(units= 128, activation= 'relu'))"
      ],
      "execution_count": null,
      "outputs": []
    },
    {
      "cell_type": "markdown",
      "metadata": {
        "id": "yTldFvbX28Na",
        "colab_type": "text"
      },
      "source": [
        "### Step 5 - Output Layer"
      ]
    },
    {
      "cell_type": "code",
      "metadata": {
        "id": "3wp9zEW4lr6n",
        "colab_type": "code",
        "colab": {}
      },
      "source": [
        "cnn.add(tf.keras.layers.Dense(units= 1, activation= 'sigmoid'))"
      ],
      "execution_count": null,
      "outputs": []
    },
    {
      "cell_type": "markdown",
      "metadata": {
        "id": "D6XkI90snSDl",
        "colab_type": "text"
      },
      "source": [
        "## Part 3 - Training the CNN"
      ]
    },
    {
      "cell_type": "markdown",
      "metadata": {
        "id": "vfrFQACEnc6i",
        "colab_type": "text"
      },
      "source": [
        "### Compiling the CNN"
      ]
    },
    {
      "cell_type": "code",
      "metadata": {
        "id": "Vmhgvx1ml_pg",
        "colab_type": "code",
        "colab": {}
      },
      "source": [
        "cnn.compile(optimizer = 'adam',loss ='binary_crossentropy', metrics =['accuracy'])"
      ],
      "execution_count": null,
      "outputs": []
    },
    {
      "cell_type": "markdown",
      "metadata": {
        "id": "ehS-v3MIpX2h",
        "colab_type": "text"
      },
      "source": [
        "### Training the CNN on the Training set and evaluating it on the Test set"
      ]
    },
    {
      "cell_type": "code",
      "metadata": {
        "id": "2raWdwVVmmEL",
        "colab_type": "code",
        "colab": {
          "base_uri": "https://localhost:8080/",
          "height": 874
        },
        "outputId": "ffef254b-81ba-4bc9-d758-ee9b1fa605f9"
      },
      "source": [
        "cnn.fit(x = training_set, validation_data = test_set, epochs = 25)"
      ],
      "execution_count": null,
      "outputs": [
        {
          "output_type": "stream",
          "text": [
            "Epoch 1/25\n",
            "250/250 [==============================] - 1944s 8s/step - loss: 0.6717 - accuracy: 0.5817 - val_loss: 0.6541 - val_accuracy: 0.6000\n",
            "Epoch 2/25\n",
            "250/250 [==============================] - 81s 325ms/step - loss: 0.6127 - accuracy: 0.6616 - val_loss: 0.6040 - val_accuracy: 0.6710\n",
            "Epoch 3/25\n",
            "250/250 [==============================] - 81s 325ms/step - loss: 0.5679 - accuracy: 0.7060 - val_loss: 0.5363 - val_accuracy: 0.7385\n",
            "Epoch 4/25\n",
            "250/250 [==============================] - 81s 324ms/step - loss: 0.5457 - accuracy: 0.7228 - val_loss: 0.5230 - val_accuracy: 0.7495\n",
            "Epoch 5/25\n",
            "250/250 [==============================] - 83s 330ms/step - loss: 0.5034 - accuracy: 0.7490 - val_loss: 0.6314 - val_accuracy: 0.7005\n",
            "Epoch 6/25\n",
            "250/250 [==============================] - 82s 326ms/step - loss: 0.4906 - accuracy: 0.7638 - val_loss: 0.5059 - val_accuracy: 0.7605\n",
            "Epoch 7/25\n",
            "250/250 [==============================] - 86s 343ms/step - loss: 0.4745 - accuracy: 0.7746 - val_loss: 0.4828 - val_accuracy: 0.7685\n",
            "Epoch 8/25\n",
            "250/250 [==============================] - 82s 328ms/step - loss: 0.4589 - accuracy: 0.7770 - val_loss: 0.4910 - val_accuracy: 0.7680\n",
            "Epoch 9/25\n",
            "250/250 [==============================] - 82s 329ms/step - loss: 0.4441 - accuracy: 0.7860 - val_loss: 0.4577 - val_accuracy: 0.7975\n",
            "Epoch 10/25\n",
            "250/250 [==============================] - 82s 327ms/step - loss: 0.4208 - accuracy: 0.8010 - val_loss: 0.4836 - val_accuracy: 0.7790\n",
            "Epoch 11/25\n",
            "250/250 [==============================] - 82s 327ms/step - loss: 0.4006 - accuracy: 0.8207 - val_loss: 0.4751 - val_accuracy: 0.7845\n",
            "Epoch 12/25\n",
            "250/250 [==============================] - 83s 332ms/step - loss: 0.3927 - accuracy: 0.8224 - val_loss: 0.5171 - val_accuracy: 0.7795\n",
            "Epoch 13/25\n",
            "250/250 [==============================] - 82s 327ms/step - loss: 0.3821 - accuracy: 0.8250 - val_loss: 0.4495 - val_accuracy: 0.7995\n",
            "Epoch 14/25\n",
            "250/250 [==============================] - 82s 328ms/step - loss: 0.3685 - accuracy: 0.8321 - val_loss: 0.5308 - val_accuracy: 0.7820\n",
            "Epoch 15/25\n",
            "250/250 [==============================] - 86s 346ms/step - loss: 0.3588 - accuracy: 0.8369 - val_loss: 0.4419 - val_accuracy: 0.8145\n",
            "Epoch 16/25\n",
            "250/250 [==============================] - 82s 328ms/step - loss: 0.3406 - accuracy: 0.8503 - val_loss: 0.4981 - val_accuracy: 0.7790\n",
            "Epoch 17/25\n",
            "250/250 [==============================] - 82s 327ms/step - loss: 0.3252 - accuracy: 0.8593 - val_loss: 0.4576 - val_accuracy: 0.7890\n",
            "Epoch 18/25\n",
            "250/250 [==============================] - 82s 326ms/step - loss: 0.3140 - accuracy: 0.8595 - val_loss: 0.5287 - val_accuracy: 0.7775\n",
            "Epoch 19/25\n",
            "250/250 [==============================] - 81s 324ms/step - loss: 0.2946 - accuracy: 0.8701 - val_loss: 0.4674 - val_accuracy: 0.8115\n",
            "Epoch 20/25\n",
            "250/250 [==============================] - 82s 327ms/step - loss: 0.2833 - accuracy: 0.8792 - val_loss: 0.4933 - val_accuracy: 0.7915\n",
            "Epoch 21/25\n",
            "250/250 [==============================] - 81s 324ms/step - loss: 0.2708 - accuracy: 0.8869 - val_loss: 0.5004 - val_accuracy: 0.7890\n",
            "Epoch 22/25\n",
            "250/250 [==============================] - 81s 325ms/step - loss: 0.2561 - accuracy: 0.8905 - val_loss: 0.5162 - val_accuracy: 0.7860\n",
            "Epoch 23/25\n",
            "250/250 [==============================] - 82s 328ms/step - loss: 0.2463 - accuracy: 0.8991 - val_loss: 0.4982 - val_accuracy: 0.8080\n",
            "Epoch 24/25\n",
            "250/250 [==============================] - 82s 326ms/step - loss: 0.2371 - accuracy: 0.9007 - val_loss: 0.5947 - val_accuracy: 0.7810\n",
            "Epoch 25/25\n",
            "250/250 [==============================] - 81s 324ms/step - loss: 0.2219 - accuracy: 0.9082 - val_loss: 0.5588 - val_accuracy: 0.7900\n"
          ],
          "name": "stdout"
        },
        {
          "output_type": "execute_result",
          "data": {
            "text/plain": [
              "<tensorflow.python.keras.callbacks.History at 0x7f4627a0c160>"
            ]
          },
          "metadata": {
            "tags": []
          },
          "execution_count": 15
        }
      ]
    },
    {
      "cell_type": "markdown",
      "metadata": {
        "id": "JyHpY9CanaMg",
        "colab_type": "text"
      },
      "source": [
        "# Making a single Prediction"
      ]
    },
    {
      "cell_type": "code",
      "metadata": {
        "id": "PKBxXY9UnlcZ",
        "colab_type": "code",
        "colab": {}
      },
      "source": [
        "import numpy as np\n",
        "from keras.preprocessing import image\n",
        "test_image = image.load_img('/content/drive/My Drive/download_cat_image.jpg',target_size =(64,64))\n",
        "test_image = image.img_to_array(test_image)\n",
        "test_image = np.expand_dims(test_image, axis = 0)\n",
        "result = cnn.predict(test_image)\n",
        "training_set.class_indices\n",
        "if result[0][0] == 1:\n",
        "  prediction = 'dog'\n",
        "else:\n",
        "  prediction = 'cat'  "
      ],
      "execution_count": null,
      "outputs": []
    },
    {
      "cell_type": "code",
      "metadata": {
        "id": "0myskvvGEadb",
        "colab_type": "code",
        "colab": {
          "base_uri": "https://localhost:8080/",
          "height": 34
        },
        "outputId": "d4595437-d9c4-416f-df25-a33208ea7ea5"
      },
      "source": [
        "print(prediction)"
      ],
      "execution_count": null,
      "outputs": [
        {
          "output_type": "stream",
          "text": [
            "cat\n"
          ],
          "name": "stdout"
        }
      ]
    },
    {
      "cell_type": "code",
      "metadata": {
        "id": "a66JnE9ToLos",
        "colab_type": "code",
        "colab": {}
      },
      "source": [
        ""
      ],
      "execution_count": null,
      "outputs": []
    }
  ]
}